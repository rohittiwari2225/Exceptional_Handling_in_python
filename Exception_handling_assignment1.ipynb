{
  "metadata": {
    "kernelspec": {
      "name": "python",
      "display_name": "Python (Pyodide)",
      "language": "python"
    },
    "language_info": {
      "codemirror_mode": {
        "name": "python",
        "version": 3
      },
      "file_extension": ".py",
      "mimetype": "text/x-python",
      "name": "python",
      "nbconvert_exporter": "python",
      "pygments_lexer": "ipython3",
      "version": "3.8"
    }
  },
  "nbformat_minor": 4,
  "nbformat": 4,
  "cells": [
    {
      "cell_type": "raw",
      "source": "Q1. What is an Exception in python? Write the difference between Exceptions and Syntax errors.\nANS:-Exception in python is an event that disrupts the normal flow of a program's execution.It occures during runtime and can be handled using try-except blocks to prevent the program from crashing. \nDIFFERENCE BITWEEN EXCEPTION AND SYNTEX ERRORS:\nEXCEPTION:\n>Occur at runtime.\n>Caused by improper operations, such as dividing by zero,accessing a non-existant file,or other logical errors.\n>Can be handled using try-except blocks to ensure the program continue running.\n>Example ZeroDivisionError,FileNotFoundError,ValueError.\nSYNTEX ERROR:\n>Detected during the parsing stage, before the program runs.\n>Caused by improper use of Python's syntex,such as missing colons, unmatched parantheses,incorrect indentation.\n>Cannot be caught or handled as they prevent the code from running at all.\n>Example: SyntexError, IndentationError.\n",
      "metadata": {}
    },
    {
      "cell_type": "raw",
      "source": "Q2. What happens when an exception is not handled? Explain with an example.\nANS:-When the exception is not handled the python interpreter stop the code running and the code will break at that point.\n",
      "metadata": {}
    },
    {
      "cell_type": "code",
      "source": "#Example\ndef division(a,b):\n    print(a//b)\nc=division(100,1)\nc=division(100,0)\n    ",
      "metadata": {
        "trusted": true
      },
      "outputs": [],
      "execution_count": null
    },
    {
      "cell_type": "raw",
      "source": "Q3. Which Python statements are used to catch and handle exceptions? Explain with an example.\nANS:-The python statement use to handle the exceptions are :\n1>try:\n2>except:\n3>else:\n4>finally>\n",
      "metadata": {}
    },
    {
      "cell_type": "code",
      "source": "try:\n    with open(\"test.txt\",\"r\") as f:\n        test=f.read()\nexcept Exception as e:\n    print(e)\nelse :\n    f.close()\n    print(\"this will execute if try block will execute\")\nfinally:\n    print(\"this will execute in any condition\")\n    \n    \n        \n    ",
      "metadata": {
        "trusted": true
      },
      "outputs": [],
      "execution_count": null
    },
    {
      "cell_type": "raw",
      "source": "Q4. Explain with an example:#\n try and else#\n finall\n+ raise",
      "metadata": {}
    },
    {
      "cell_type": "code",
      "source": "#ANS:=\n#TRY ans ELSE\n'''try block check the weather our code is run successfully or not if our code will not run then it will generate some Exceptions \n,The execution of else block will depend on try block if try block run with code 0 then code inside else block will execute automatically\nand if the code inside try block run with code 1 then the code inside else block will not execute.'''\ntry:\n    a=int(input())\n    b=int(input())\n    a/=b\nexcept Exception as e:\n    print(e)\nelse:\n    print(\"the result of a/b is {}\".format())\n\n\n",
      "metadata": {
        "trusted": true
      },
      "outputs": [],
      "execution_count": null
    },
    {
      "cell_type": "code",
      "source": " def divide(a, b):\n    try:\n        if b == 0:\n            raise ValueError(\"Cannot divide by zero\")\n        result = a / b\n        return result\n    except ValueError as e:\n        print(f\"Error: {e}\")\n    finally:\n        print(\"Execution of the division operation is complete.\")\n\n# Example usage\n\n",
      "metadata": {
        "trusted": true
      },
      "outputs": [],
      "execution_count": null
    },
    {
      "cell_type": "raw",
      "source": "Q5. What are Custom Exceptions in python? Why do we need Custom Exceptions? Explain with an example.\nANS:-In some situation we have to generate the custom exception during runtime,for example if we are taking input the height of person \nand user enter the negative or too large value then we need to rise custom exception.",
      "metadata": {}
    },
    {
      "cell_type": "raw",
      "source": "Q6. Create a custom exception class. Use this class to handle an exception.\n",
      "metadata": {}
    },
    {
      "cell_type": "code",
      "source": "class Check_valid_height(Exception):\n    def __init__(self,msg):\n        self.msg=msg\n        ",
      "metadata": {
        "trusted": true
      },
      "outputs": [],
      "execution_count": 4
    },
    {
      "cell_type": "code",
      "source": "def height_check(height):\n    if height<0:\n        raise Check_valid_height(\"entered height is to short\")\n    elif height>3:\n        raise Check_valid_height(\"entered height is too big\")\n    else:\n        raise Check_valid_height(\"Valid Height\")",
      "metadata": {
        "trusted": true
      },
      "outputs": [],
      "execution_count": 5
    },
    {
      "cell_type": "code",
      "source": "try:\n    height=float(input(\"enter your height\"))\n    height_check(height)\nexcept Check_valid_height as e:\n    print(e)\n              ",
      "metadata": {
        "jp-MarkdownHeadingCollapsed": true,
        "trusted": true
      },
      "outputs": [
        {
          "ename": "<class 'TypeError'>",
          "evalue": "float() argument must be a string or a real number, not 'PyodideFuture'",
          "traceback": [
            "\u001b[0;31m---------------------------------------------------------------------------\u001b[0m",
            "\u001b[0;31mTypeError\u001b[0m                                 Traceback (most recent call last)",
            "Cell \u001b[0;32mIn[6], line 2\u001b[0m\n\u001b[1;32m      1\u001b[0m \u001b[38;5;28;01mtry\u001b[39;00m:\n\u001b[0;32m----> 2\u001b[0m     height\u001b[38;5;241m=\u001b[39m\u001b[38;5;28;43mfloat\u001b[39;49m\u001b[43m(\u001b[49m\u001b[38;5;28;43minput\u001b[39;49m\u001b[43m(\u001b[49m\u001b[38;5;124;43m\"\u001b[39;49m\u001b[38;5;124;43menter your height\u001b[39;49m\u001b[38;5;124;43m\"\u001b[39;49m\u001b[43m)\u001b[49m\u001b[43m)\u001b[49m\n\u001b[1;32m      3\u001b[0m     height_check(height)\n\u001b[1;32m      4\u001b[0m \u001b[38;5;28;01mexcept\u001b[39;00m Check_valid_height \u001b[38;5;28;01mas\u001b[39;00m e:\n",
            "\u001b[0;31mTypeError\u001b[0m: float() argument must be a string or a real number, not 'PyodideFuture'"
          ],
          "output_type": "error"
        },
        {
          "output_type": "stream",
          "name": "stdin",
          "text": "enter your height 78\n"
        }
      ],
      "execution_count": 6
    },
    {
      "cell_type": "code",
      "source": "",
      "metadata": {
        "trusted": true
      },
      "outputs": [],
      "execution_count": null
    },
    {
      "cell_type": "code",
      "source": "",
      "metadata": {
        "trusted": true
      },
      "outputs": [],
      "execution_count": null
    }
  ]
}